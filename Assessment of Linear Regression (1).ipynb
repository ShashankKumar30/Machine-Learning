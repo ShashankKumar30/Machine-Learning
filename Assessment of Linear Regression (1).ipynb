{
 "cells": [
  {
   "cell_type": "code",
   "execution_count": 7,
   "id": "ca473072",
   "metadata": {},
   "outputs": [],
   "source": [
    "# In first  Importing  some library\n",
    "import pandas as pd\n",
    "import numpy as np\n",
    "import matplotlib.pyplot as plt\n",
    "import seaborn as sns\n",
    "from sklearn.preprocessing import LabelEncoder\n",
    "le = LabelEncoder()"
   ]
  },
  {
   "cell_type": "markdown",
   "id": "226d9dc8",
   "metadata": {},
   "source": [
    "Importing the data file "
   ]
  },
  {
   "cell_type": "code",
   "execution_count": 16,
   "id": "a70f5482",
   "metadata": {},
   "outputs": [],
   "source": [
    "df=pd.read_csv(r'C:\\Users\\admin\\Downloads\\insurance.csv')"
   ]
  },
  {
   "cell_type": "markdown",
   "id": "4eb7d97c",
   "metadata": {},
   "source": [
    "After importing the data File and  know about the top 5 row of data"
   ]
  },
  {
   "cell_type": "code",
   "execution_count": 17,
   "id": "f46f38e0",
   "metadata": {},
   "outputs": [
    {
     "data": {
      "text/html": [
       "<div>\n",
       "<style scoped>\n",
       "    .dataframe tbody tr th:only-of-type {\n",
       "        vertical-align: middle;\n",
       "    }\n",
       "\n",
       "    .dataframe tbody tr th {\n",
       "        vertical-align: top;\n",
       "    }\n",
       "\n",
       "    .dataframe thead th {\n",
       "        text-align: right;\n",
       "    }\n",
       "</style>\n",
       "<table border=\"1\" class=\"dataframe\">\n",
       "  <thead>\n",
       "    <tr style=\"text-align: right;\">\n",
       "      <th></th>\n",
       "      <th>age</th>\n",
       "      <th>sex</th>\n",
       "      <th>bmi</th>\n",
       "      <th>children</th>\n",
       "      <th>smoker</th>\n",
       "      <th>region</th>\n",
       "      <th>charges</th>\n",
       "    </tr>\n",
       "  </thead>\n",
       "  <tbody>\n",
       "    <tr>\n",
       "      <th>0</th>\n",
       "      <td>19</td>\n",
       "      <td>female</td>\n",
       "      <td>27.900</td>\n",
       "      <td>0</td>\n",
       "      <td>yes</td>\n",
       "      <td>southwest</td>\n",
       "      <td>16884.92400</td>\n",
       "    </tr>\n",
       "    <tr>\n",
       "      <th>1</th>\n",
       "      <td>18</td>\n",
       "      <td>male</td>\n",
       "      <td>33.770</td>\n",
       "      <td>1</td>\n",
       "      <td>no</td>\n",
       "      <td>southeast</td>\n",
       "      <td>1725.55230</td>\n",
       "    </tr>\n",
       "    <tr>\n",
       "      <th>2</th>\n",
       "      <td>28</td>\n",
       "      <td>male</td>\n",
       "      <td>33.000</td>\n",
       "      <td>3</td>\n",
       "      <td>no</td>\n",
       "      <td>southeast</td>\n",
       "      <td>4449.46200</td>\n",
       "    </tr>\n",
       "    <tr>\n",
       "      <th>3</th>\n",
       "      <td>33</td>\n",
       "      <td>male</td>\n",
       "      <td>22.705</td>\n",
       "      <td>0</td>\n",
       "      <td>no</td>\n",
       "      <td>northwest</td>\n",
       "      <td>21984.47061</td>\n",
       "    </tr>\n",
       "    <tr>\n",
       "      <th>4</th>\n",
       "      <td>32</td>\n",
       "      <td>male</td>\n",
       "      <td>28.880</td>\n",
       "      <td>0</td>\n",
       "      <td>no</td>\n",
       "      <td>northwest</td>\n",
       "      <td>3866.85520</td>\n",
       "    </tr>\n",
       "  </tbody>\n",
       "</table>\n",
       "</div>"
      ],
      "text/plain": [
       "   age     sex     bmi  children smoker     region      charges\n",
       "0   19  female  27.900         0    yes  southwest  16884.92400\n",
       "1   18    male  33.770         1     no  southeast   1725.55230\n",
       "2   28    male  33.000         3     no  southeast   4449.46200\n",
       "3   33    male  22.705         0     no  northwest  21984.47061\n",
       "4   32    male  28.880         0     no  northwest   3866.85520"
      ]
     },
     "execution_count": 17,
     "metadata": {},
     "output_type": "execute_result"
    }
   ],
   "source": [
    "df.head()"
   ]
  },
  {
   "cell_type": "markdown",
   "id": "712ed57e",
   "metadata": {},
   "source": [
    "It tell about the whole information about the data like telling about the null value and its type "
   ]
  },
  {
   "cell_type": "code",
   "execution_count": 18,
   "id": "26b85244",
   "metadata": {},
   "outputs": [
    {
     "name": "stdout",
     "output_type": "stream",
     "text": [
      "<class 'pandas.core.frame.DataFrame'>\n",
      "RangeIndex: 1338 entries, 0 to 1337\n",
      "Data columns (total 7 columns):\n",
      " #   Column    Non-Null Count  Dtype  \n",
      "---  ------    --------------  -----  \n",
      " 0   age       1338 non-null   int64  \n",
      " 1   sex       1338 non-null   object \n",
      " 2   bmi       1338 non-null   float64\n",
      " 3   children  1338 non-null   int64  \n",
      " 4   smoker    1338 non-null   object \n",
      " 5   region    1338 non-null   object \n",
      " 6   charges   1338 non-null   float64\n",
      "dtypes: float64(2), int64(2), object(3)\n",
      "memory usage: 73.3+ KB\n"
     ]
    }
   ],
   "source": [
    "df.info()"
   ]
  },
  {
   "cell_type": "markdown",
   "id": "d9a484ef",
   "metadata": {},
   "source": [
    "It tell the number of rows and columns present in the data"
   ]
  },
  {
   "cell_type": "code",
   "execution_count": 19,
   "id": "c473a1c8",
   "metadata": {},
   "outputs": [
    {
     "data": {
      "text/plain": [
       "(1338, 7)"
      ]
     },
     "execution_count": 19,
     "metadata": {},
     "output_type": "execute_result"
    }
   ],
   "source": [
    "df.shape"
   ]
  },
  {
   "cell_type": "markdown",
   "id": "fb407c4e",
   "metadata": {},
   "source": [
    "A summary consists of five values: the most extreme values in the data set (the maximum and minimum values), the lower and upper quartiles, and the median. \n",
    " These values are presented together and ordered from lowest to highest: minimum value, lower quartile (Q1), median value (Q2), upper quartile (Q3), maximum value\n"
   ]
  },
  {
   "cell_type": "code",
   "execution_count": 20,
   "id": "b1a9afa3",
   "metadata": {},
   "outputs": [
    {
     "data": {
      "text/html": [
       "<div>\n",
       "<style scoped>\n",
       "    .dataframe tbody tr th:only-of-type {\n",
       "        vertical-align: middle;\n",
       "    }\n",
       "\n",
       "    .dataframe tbody tr th {\n",
       "        vertical-align: top;\n",
       "    }\n",
       "\n",
       "    .dataframe thead th {\n",
       "        text-align: right;\n",
       "    }\n",
       "</style>\n",
       "<table border=\"1\" class=\"dataframe\">\n",
       "  <thead>\n",
       "    <tr style=\"text-align: right;\">\n",
       "      <th></th>\n",
       "      <th>age</th>\n",
       "      <th>bmi</th>\n",
       "      <th>children</th>\n",
       "      <th>charges</th>\n",
       "    </tr>\n",
       "  </thead>\n",
       "  <tbody>\n",
       "    <tr>\n",
       "      <th>count</th>\n",
       "      <td>1338.000000</td>\n",
       "      <td>1338.000000</td>\n",
       "      <td>1338.000000</td>\n",
       "      <td>1338.000000</td>\n",
       "    </tr>\n",
       "    <tr>\n",
       "      <th>mean</th>\n",
       "      <td>39.207025</td>\n",
       "      <td>30.663397</td>\n",
       "      <td>1.094918</td>\n",
       "      <td>13270.422265</td>\n",
       "    </tr>\n",
       "    <tr>\n",
       "      <th>std</th>\n",
       "      <td>14.049960</td>\n",
       "      <td>6.098187</td>\n",
       "      <td>1.205493</td>\n",
       "      <td>12110.011237</td>\n",
       "    </tr>\n",
       "    <tr>\n",
       "      <th>min</th>\n",
       "      <td>18.000000</td>\n",
       "      <td>15.960000</td>\n",
       "      <td>0.000000</td>\n",
       "      <td>1121.873900</td>\n",
       "    </tr>\n",
       "    <tr>\n",
       "      <th>25%</th>\n",
       "      <td>27.000000</td>\n",
       "      <td>26.296250</td>\n",
       "      <td>0.000000</td>\n",
       "      <td>4740.287150</td>\n",
       "    </tr>\n",
       "    <tr>\n",
       "      <th>50%</th>\n",
       "      <td>39.000000</td>\n",
       "      <td>30.400000</td>\n",
       "      <td>1.000000</td>\n",
       "      <td>9382.033000</td>\n",
       "    </tr>\n",
       "    <tr>\n",
       "      <th>75%</th>\n",
       "      <td>51.000000</td>\n",
       "      <td>34.693750</td>\n",
       "      <td>2.000000</td>\n",
       "      <td>16639.912515</td>\n",
       "    </tr>\n",
       "    <tr>\n",
       "      <th>max</th>\n",
       "      <td>64.000000</td>\n",
       "      <td>53.130000</td>\n",
       "      <td>5.000000</td>\n",
       "      <td>63770.428010</td>\n",
       "    </tr>\n",
       "  </tbody>\n",
       "</table>\n",
       "</div>"
      ],
      "text/plain": [
       "               age          bmi     children       charges\n",
       "count  1338.000000  1338.000000  1338.000000   1338.000000\n",
       "mean     39.207025    30.663397     1.094918  13270.422265\n",
       "std      14.049960     6.098187     1.205493  12110.011237\n",
       "min      18.000000    15.960000     0.000000   1121.873900\n",
       "25%      27.000000    26.296250     0.000000   4740.287150\n",
       "50%      39.000000    30.400000     1.000000   9382.033000\n",
       "75%      51.000000    34.693750     2.000000  16639.912515\n",
       "max      64.000000    53.130000     5.000000  63770.428010"
      ]
     },
     "execution_count": 20,
     "metadata": {},
     "output_type": "execute_result"
    }
   ],
   "source": [
    "df.describe()"
   ]
  },
  {
   "cell_type": "markdown",
   "id": "94d8b3a0",
   "metadata": {},
   "source": [
    " I use this to expand the Insight the  rows of  all the columns of the data \n"
   ]
  },
  {
   "cell_type": "code",
   "execution_count": 21,
   "id": "f8dc402c",
   "metadata": {},
   "outputs": [],
   "source": [
    "pd.set_option('max_rows',None)"
   ]
  },
  {
   "cell_type": "markdown",
   "id": "cb5a36c0",
   "metadata": {},
   "source": [
    "importing the label Encoder library"
   ]
  },
  {
   "cell_type": "code",
   "execution_count": 22,
   "id": "79ef0058",
   "metadata": {},
   "outputs": [],
   "source": [
    "from sklearn.preprocessing import LabelEncoder"
   ]
  },
  {
   "cell_type": "markdown",
   "id": "aaf39225",
   "metadata": {},
   "source": [
    "Object assigned"
   ]
  },
  {
   "cell_type": "code",
   "execution_count": 23,
   "id": "ac0c1d96",
   "metadata": {},
   "outputs": [],
   "source": [
    "le = LabelEncoder()"
   ]
  },
  {
   "cell_type": "markdown",
   "id": "7cb866cd",
   "metadata": {},
   "source": [
    "it convert the datatypes from object to int and and filled the values through median\n"
   ]
  },
  {
   "cell_type": "code",
   "execution_count": 24,
   "id": "aaaef7b2",
   "metadata": {},
   "outputs": [],
   "source": [
    "df['sex']= le.fit_transform(df['sex'])\n",
    "df['smoker']= le.fit_transform(df['smoker'])\n",
    "df['region'] = le.fit_transform(df['region'])"
   ]
  },
  {
   "cell_type": "markdown",
   "id": "4de329a3",
   "metadata": {},
   "source": [
    "To check the data again after Data Processing that all my object data convert Into Int or not \n"
   ]
  },
  {
   "cell_type": "code",
   "execution_count": 25,
   "id": "da0a06d7",
   "metadata": {},
   "outputs": [
    {
     "name": "stdout",
     "output_type": "stream",
     "text": [
      "<class 'pandas.core.frame.DataFrame'>\n",
      "RangeIndex: 1338 entries, 0 to 1337\n",
      "Data columns (total 7 columns):\n",
      " #   Column    Non-Null Count  Dtype  \n",
      "---  ------    --------------  -----  \n",
      " 0   age       1338 non-null   int64  \n",
      " 1   sex       1338 non-null   int32  \n",
      " 2   bmi       1338 non-null   float64\n",
      " 3   children  1338 non-null   int64  \n",
      " 4   smoker    1338 non-null   int32  \n",
      " 5   region    1338 non-null   int32  \n",
      " 6   charges   1338 non-null   float64\n",
      "dtypes: float64(2), int32(3), int64(2)\n",
      "memory usage: 57.6 KB\n"
     ]
    }
   ],
   "source": [
    "df.info()"
   ]
  },
  {
   "cell_type": "markdown",
   "id": "2534fed0",
   "metadata": {},
   "source": [
    "# Correlation"
   ]
  },
  {
   "cell_type": "markdown",
   "id": "d7f3170b",
   "metadata": {},
   "source": [
    "A correlation matrix is a table containing correlation coefficients between variables. \n",
    "Each cell in the table represents the correlation between two variables. The value lies between -1 and 1\n"
   ]
  },
  {
   "cell_type": "code",
   "execution_count": 26,
   "id": "81f657c8",
   "metadata": {},
   "outputs": [
    {
     "data": {
      "text/html": [
       "<div>\n",
       "<style scoped>\n",
       "    .dataframe tbody tr th:only-of-type {\n",
       "        vertical-align: middle;\n",
       "    }\n",
       "\n",
       "    .dataframe tbody tr th {\n",
       "        vertical-align: top;\n",
       "    }\n",
       "\n",
       "    .dataframe thead th {\n",
       "        text-align: right;\n",
       "    }\n",
       "</style>\n",
       "<table border=\"1\" class=\"dataframe\">\n",
       "  <thead>\n",
       "    <tr style=\"text-align: right;\">\n",
       "      <th></th>\n",
       "      <th>age</th>\n",
       "      <th>sex</th>\n",
       "      <th>bmi</th>\n",
       "      <th>children</th>\n",
       "      <th>smoker</th>\n",
       "      <th>region</th>\n",
       "      <th>charges</th>\n",
       "    </tr>\n",
       "  </thead>\n",
       "  <tbody>\n",
       "    <tr>\n",
       "      <th>age</th>\n",
       "      <td>1.000000</td>\n",
       "      <td>-0.020856</td>\n",
       "      <td>0.109272</td>\n",
       "      <td>0.042469</td>\n",
       "      <td>-0.025019</td>\n",
       "      <td>0.002127</td>\n",
       "      <td>0.299008</td>\n",
       "    </tr>\n",
       "    <tr>\n",
       "      <th>sex</th>\n",
       "      <td>-0.020856</td>\n",
       "      <td>1.000000</td>\n",
       "      <td>0.046371</td>\n",
       "      <td>0.017163</td>\n",
       "      <td>0.076185</td>\n",
       "      <td>0.004588</td>\n",
       "      <td>0.057292</td>\n",
       "    </tr>\n",
       "    <tr>\n",
       "      <th>bmi</th>\n",
       "      <td>0.109272</td>\n",
       "      <td>0.046371</td>\n",
       "      <td>1.000000</td>\n",
       "      <td>0.012759</td>\n",
       "      <td>0.003750</td>\n",
       "      <td>0.157566</td>\n",
       "      <td>0.198341</td>\n",
       "    </tr>\n",
       "    <tr>\n",
       "      <th>children</th>\n",
       "      <td>0.042469</td>\n",
       "      <td>0.017163</td>\n",
       "      <td>0.012759</td>\n",
       "      <td>1.000000</td>\n",
       "      <td>0.007673</td>\n",
       "      <td>0.016569</td>\n",
       "      <td>0.067998</td>\n",
       "    </tr>\n",
       "    <tr>\n",
       "      <th>smoker</th>\n",
       "      <td>-0.025019</td>\n",
       "      <td>0.076185</td>\n",
       "      <td>0.003750</td>\n",
       "      <td>0.007673</td>\n",
       "      <td>1.000000</td>\n",
       "      <td>-0.002181</td>\n",
       "      <td>0.787251</td>\n",
       "    </tr>\n",
       "    <tr>\n",
       "      <th>region</th>\n",
       "      <td>0.002127</td>\n",
       "      <td>0.004588</td>\n",
       "      <td>0.157566</td>\n",
       "      <td>0.016569</td>\n",
       "      <td>-0.002181</td>\n",
       "      <td>1.000000</td>\n",
       "      <td>-0.006208</td>\n",
       "    </tr>\n",
       "    <tr>\n",
       "      <th>charges</th>\n",
       "      <td>0.299008</td>\n",
       "      <td>0.057292</td>\n",
       "      <td>0.198341</td>\n",
       "      <td>0.067998</td>\n",
       "      <td>0.787251</td>\n",
       "      <td>-0.006208</td>\n",
       "      <td>1.000000</td>\n",
       "    </tr>\n",
       "  </tbody>\n",
       "</table>\n",
       "</div>"
      ],
      "text/plain": [
       "               age       sex       bmi  children    smoker    region   charges\n",
       "age       1.000000 -0.020856  0.109272  0.042469 -0.025019  0.002127  0.299008\n",
       "sex      -0.020856  1.000000  0.046371  0.017163  0.076185  0.004588  0.057292\n",
       "bmi       0.109272  0.046371  1.000000  0.012759  0.003750  0.157566  0.198341\n",
       "children  0.042469  0.017163  0.012759  1.000000  0.007673  0.016569  0.067998\n",
       "smoker   -0.025019  0.076185  0.003750  0.007673  1.000000 -0.002181  0.787251\n",
       "region    0.002127  0.004588  0.157566  0.016569 -0.002181  1.000000 -0.006208\n",
       "charges   0.299008  0.057292  0.198341  0.067998  0.787251 -0.006208  1.000000"
      ]
     },
     "execution_count": 26,
     "metadata": {},
     "output_type": "execute_result"
    }
   ],
   "source": [
    "corr =df.corr()\n",
    "corr"
   ]
  },
  {
   "cell_type": "markdown",
   "id": "a0bd08a9",
   "metadata": {},
   "source": [
    "Heat map\n",
    "Following is the heat map of the corelation of the dependent attributes with the independent attributes which is changes in this data. \n",
    "\n",
    "The grenest part shows the highly positive value. \n",
    "The heatmap represnts that the Smokers are the highliy in corelation with the charges attribute. Smokers have the extreme 78% hold \n",
    "on the unsurance claim charges. \n",
    "\n",
    "Attributes sex and the children are at the leat side of the graph. It have the 0.5% and 0.6% respective affect on the insurance charges. \n",
    "\n",
    "The age and the bmi factor has 29 and 19 percentage claim on the charges, which is considered to be the moderate.\n"
   ]
  },
  {
   "cell_type": "code",
   "execution_count": 27,
   "id": "0a5fe766",
   "metadata": {},
   "outputs": [
    {
     "data": {
      "image/png": "[encoded data removed]",
      "text/plain": [
       "<Figure size 1440x720 with 2 Axes>"
      ]
     },
     "metadata": {
      "needs_background": "light"
     },
     "output_type": "display_data"
    }
   ],
   "source": [
    "plt.figure(figsize=(20,10))\n",
    "plt.title('Correlation_Matrix',fontsize=20)\n",
    "sns.heatmap(corr,vmax=1.0,vmin=-1.0,fmt='g',cmap='RdYlGn',annot=True)\n",
    "plt.show()"
   ]
  },
  {
   "cell_type": "markdown",
   "id": "254eebe6",
   "metadata": {},
   "source": [
    "# Skewness"
   ]
  },
  {
   "cell_type": "markdown",
   "id": "dc392d71",
   "metadata": {},
   "source": [
    "Skewness tell us that where the maximumvlaue is . it will show the inclination slides"
   ]
  },
  {
   "cell_type": "code",
   "execution_count": 28,
   "id": "d093513a",
   "metadata": {},
   "outputs": [
    {
     "data": {
      "text/plain": [
       "age         0.055673\n",
       "sex        -0.020951\n",
       "bmi         0.284047\n",
       "children    0.938380\n",
       "smoker      1.464766\n",
       "region     -0.038101\n",
       "charges     1.515880\n",
       "dtype: float64"
      ]
     },
     "execution_count": 28,
     "metadata": {},
     "output_type": "execute_result"
    }
   ],
   "source": [
    "sk = df.skew()\n",
    "sk"
   ]
  },
  {
   "cell_type": "markdown",
   "id": "ef09ccc9",
   "metadata": {},
   "source": [
    "Filter warning for ignoring the warning sign"
   ]
  },
  {
   "cell_type": "code",
   "execution_count": 30,
   "id": "b3d5bcd4",
   "metadata": {},
   "outputs": [],
   "source": [
    "import warnings\n",
    "warnings.filterwarnings('ignore')"
   ]
  },
  {
   "cell_type": "markdown",
   "id": "aca28303",
   "metadata": {},
   "source": [
    "# Distplot"
   ]
  },
  {
   "cell_type": "markdown",
   "id": "5adb285d",
   "metadata": {},
   "source": [
    " Distplot depictsthe variation in the data distribution as mentioned below graph shows that if insides of the data\n",
    " gives the left peak with right tail then it tells us that the mentioned data has positive values and if the inside \n",
    "has right peak with left tai# then the data has neagtives values \n",
    "\n",
    " IN charges distplot the grapgh shows us the left peak with rights tailthen we can automatically assume that the charges \n",
    "    values are in positives side . The Charges\n",
    " plot shows the maximum values are between 0 to 1000"
   ]
  },
  {
   "cell_type": "markdown",
   "id": "69956240",
   "metadata": {},
   "source": [
    "DISTPLOT OF INDEPENDENT VARIABLES"
   ]
  },
  {
   "cell_type": "raw",
   "id": "07375443",
   "metadata": {},
   "source": [
    "Peak of the graph is towards right, which shows a positive Skewness. \n",
    "The inclination of the data is more towards 20 to 25, i.e. data values or rows are more towards 20 to 25.\n"
   ]
  },
  {
   "cell_type": "code",
   "execution_count": 34,
   "id": "8f20b955",
   "metadata": {},
   "outputs": [
    {
     "data": {
      "image/png": "[encoded data removed]",
      "text/plain": [
       "<Figure size 576x360 with 1 Axes>"
      ]
     },
     "metadata": {
      "needs_background": "light"
     },
     "output_type": "display_data"
    }
   ],
   "source": [
    "plt.figure(figsize=(8,5))\n",
    "sns.distplot(df['age'])\n",
    "plt.title('AGE',fontsize=20)\n",
    "plt.show()"
   ]
  },
  {
   "cell_type": "markdown",
   "id": "65c64873",
   "metadata": {},
   "source": [
    "The Peak of the graph is left head and right tail which shows the positive data.\n",
    "The data/rows are more towards the 20 to 40.\n"
   ]
  },
  {
   "cell_type": "code",
   "execution_count": 35,
   "id": "8d302963",
   "metadata": {},
   "outputs": [
    {
     "data": {
      "image/png": "[encoded data removed]",
      "text/plain": [
       "<Figure size 576x360 with 1 Axes>"
      ]
     },
     "metadata": {
      "needs_background": "light"
     },
     "output_type": "display_data"
    }
   ],
   "source": [
    "plt.figure(figsize=(8,5))\n",
    "sns.distplot(df['bmi'])\n",
    "plt.title('BMI',fontsize=20)\n",
    "plt.show()"
   ]
  },
  {
   "cell_type": "markdown",
   "id": "15ac4407",
   "metadata": {},
   "source": [
    "The peak of the graph is distributed on the right and left peak. \n",
    "But the data is now not normalized as it’s the slightly more towards the right side;\n",
    "which shows the positive values are more than the negative. "
   ]
  },
  {
   "cell_type": "code",
   "execution_count": 37,
   "id": "ce8626ad",
   "metadata": {},
   "outputs": [
    {
     "data": {
      "image/png": "[encoded data removed]",
      "text/plain": [
       "<Figure size 576x360 with 1 Axes>"
      ]
     },
     "metadata": {
      "needs_background": "light"
     },
     "output_type": "display_data"
    }
   ],
   "source": [
    "plt.figure(figsize=(8,5))\n",
    "sns.distplot(df['sex'])\n",
    "plt.title('SEX',fontsize=20)\n",
    "plt.show()"
   ]
  },
  {
   "cell_type": "markdown",
   "id": "aa43057f",
   "metadata": {},
   "source": [
    "The graph shows the peak as left head and right tail. The values are getting lesser as the age number of having child is more. \n",
    "The high values are with 0 numbers of children. \n"
   ]
  },
  {
   "cell_type": "code",
   "execution_count": 39,
   "id": "8edf4734",
   "metadata": {},
   "outputs": [
    {
     "data": {
      "image/png": "[encoded data removed]",
      "text/plain": [
       "<Figure size 576x360 with 1 Axes>"
      ]
     },
     "metadata": {
      "needs_background": "light"
     },
     "output_type": "display_data"
    }
   ],
   "source": [
    "plt.figure(figsize=(8,5))\n",
    "sns.distplot(df['children'])\n",
    "plt.title('CHILDREN',fontsize=20)\n",
    "plt.show()"
   ]
  },
  {
   "cell_type": "markdown",
   "id": "7f7c4f33",
   "metadata": {},
   "source": [
    "The graph is representing the left peak on the high and right on the lower side. \n",
    "This is demonstrates the positive inclination. As the yes and no is represented in positive and negative numbers respectively. \n",
    "The non-smokers data is more than the smokers. \n"
   ]
  },
  {
   "cell_type": "code",
   "execution_count": 40,
   "id": "3473905a",
   "metadata": {},
   "outputs": [
    {
     "data": {
      "image/png": "[encoded data removed]",
      "text/plain": [
       "<Figure size 576x360 with 1 Axes>"
      ]
     },
     "metadata": {
      "needs_background": "light"
     },
     "output_type": "display_data"
    }
   ],
   "source": [
    "plt.figure(figsize=(8,5))\n",
    "sns.distplot(df['smoker'])\n",
    "plt.title('SMOKER',fontsize=20)\n",
    "plt.show()"
   ]
  },
  {
   "cell_type": "markdown",
   "id": "5ec47fa1",
   "metadata": {},
   "source": [
    "# Box plot of IndependentVariables"
   ]
  },
  {
   "cell_type": "markdown",
   "id": "a4b678e8",
   "metadata": {},
   "source": [
    "# Fiver number summary of Visuvalization"
   ]
  },
  {
   "cell_type": "markdown",
   "id": "d5b39b3e",
   "metadata": {},
   "source": [
    "The attribute children has the major numbers between the 0 and 2. 50 persent of the data is at the value and the 75 percent is at the 2.\n"
   ]
  },
  {
   "cell_type": "code",
   "execution_count": 49,
   "id": "9ca7392e",
   "metadata": {},
   "outputs": [
    {
     "data": {
      "text/plain": [
       "Text(0.5, 1.0, 'CHIlDREN')"
      ]
     },
     "execution_count": 49,
     "metadata": {},
     "output_type": "execute_result"
    },
    {
     "data": {
      "image/png": "[encoded data removed]",
      "text/plain": [
       "<Figure size 432x288 with 1 Axes>"
      ]
     },
     "metadata": {
      "needs_background": "light"
     },
     "output_type": "display_data"
    }
   ],
   "source": [
    "sns.boxplot(df.children)\n",
    "plt.title('CHIlDREN',fontsize=20)"
   ]
  },
  {
   "cell_type": "markdown",
   "id": "e920e759",
   "metadata": {},
   "source": [
    "The box plot represents the data of the age attribute.\n",
    "The age of values starts from 19 and goes above 60. 25% to 75% of the data/rows lies between the 25 to 52(approx) age. \n"
   ]
  },
  {
   "cell_type": "code",
   "execution_count": 50,
   "id": "71a34bc1",
   "metadata": {},
   "outputs": [
    {
     "data": {
      "text/plain": [
       "Text(0.5, 1.0, 'AGE')"
      ]
     },
     "execution_count": 50,
     "metadata": {},
     "output_type": "execute_result"
    },
    {
     "data": {
      "image/png": "[encoded data removed]",
      "text/plain": [
       "<Figure size 432x288 with 1 Axes>"
      ]
     },
     "metadata": {
      "needs_background": "light"
     },
     "output_type": "display_data"
    }
   ],
   "source": [
    "sns.boxplot(df.age)\n",
    "plt.title('AGE',fontsize=20)"
   ]
  },
  {
   "cell_type": "markdown",
   "id": "68bffdc4",
   "metadata": {},
   "source": [
    "The data is shows either the on the left or the right side of the graphs which presents \n",
    "the data has either positive or the negative values. \n"
   ]
  },
  {
   "cell_type": "code",
   "execution_count": 51,
   "id": "5233d5fd",
   "metadata": {},
   "outputs": [
    {
     "data": {
      "text/plain": [
       "Text(0.5, 1.0, 'SMOKER')"
      ]
     },
     "execution_count": 51,
     "metadata": {},
     "output_type": "execute_result"
    },
    {
     "data": {
      "image/png": "[encoded data removed]",
      "text/plain": [
       "<Figure size 432x288 with 1 Axes>"
      ]
     },
     "metadata": {
      "needs_background": "light"
     },
     "output_type": "display_data"
    }
   ],
   "source": [
    "sns.boxplot(df.smoker)\n",
    "plt.title('SMOKER',fontsize=20)"
   ]
  },
  {
   "cell_type": "markdown",
   "id": "53b0be77",
   "metadata": {},
   "source": [
    "The sex attribute contains only Positive and Negative values, hence the box plots cannot be described here. \n"
   ]
  },
  {
   "cell_type": "code",
   "execution_count": 52,
   "id": "e0988e31",
   "metadata": {},
   "outputs": [
    {
     "data": {
      "text/plain": [
       "Text(0.5, 1.0, 'SEX')"
      ]
     },
     "execution_count": 52,
     "metadata": {},
     "output_type": "execute_result"
    },
    {
     "data": {
      "image/png": "[encoded data removed]",
      "text/plain": [
       "<Figure size 432x288 with 1 Axes>"
      ]
     },
     "metadata": {
      "needs_background": "light"
     },
     "output_type": "display_data"
    }
   ],
   "source": [
    "sns.boxplot(df.sex)\n",
    "plt.title('SEX',fontsize=20)"
   ]
  },
  {
   "cell_type": "markdown",
   "id": "f3dbdc3e",
   "metadata": {},
   "source": [
    "The plots shows the values available in the tables are between 15 and above 50. 25 to 75 percent of the data lies between \n",
    "the 25 and 35 bmi. On top of there are instances of outlies found in the data which are displayed outside of the boxplot presentation. \n"
   ]
  },
  {
   "cell_type": "code",
   "execution_count": 53,
   "id": "97adb575",
   "metadata": {},
   "outputs": [
    {
     "data": {
      "text/plain": [
       "Text(0.5, 1.0, 'BMI')"
      ]
     },
     "execution_count": 53,
     "metadata": {},
     "output_type": "execute_result"
    },
    {
     "data": {
      "image/png": "[encoded data removed]",
      "text/plain": [
       "<Figure size 432x288 with 1 Axes>"
      ]
     },
     "metadata": {
      "needs_background": "light"
     },
     "output_type": "display_data"
    }
   ],
   "source": [
    "sns.boxplot(df.bmi)\n",
    "plt.title('BMI',fontsize=20)"
   ]
  },
  {
   "cell_type": "markdown",
   "id": "55ecba7f",
   "metadata": {},
   "source": [
    "To checking the correlation vlaues of charges in data frame becuase charges is our dependent variable \n"
   ]
  },
  {
   "cell_type": "code",
   "execution_count": 54,
   "id": "ed5d176e",
   "metadata": {},
   "outputs": [
    {
     "data": {
      "text/html": [
       "<div>\n",
       "<style scoped>\n",
       "    .dataframe tbody tr th:only-of-type {\n",
       "        vertical-align: middle;\n",
       "    }\n",
       "\n",
       "    .dataframe tbody tr th {\n",
       "        vertical-align: top;\n",
       "    }\n",
       "\n",
       "    .dataframe thead th {\n",
       "        text-align: right;\n",
       "    }\n",
       "</style>\n",
       "<table border=\"1\" class=\"dataframe\">\n",
       "  <thead>\n",
       "    <tr style=\"text-align: right;\">\n",
       "      <th></th>\n",
       "      <th>charges</th>\n",
       "    </tr>\n",
       "  </thead>\n",
       "  <tbody>\n",
       "    <tr>\n",
       "      <th>age</th>\n",
       "      <td>0.299008</td>\n",
       "    </tr>\n",
       "    <tr>\n",
       "      <th>sex</th>\n",
       "      <td>0.057292</td>\n",
       "    </tr>\n",
       "    <tr>\n",
       "      <th>bmi</th>\n",
       "      <td>0.198341</td>\n",
       "    </tr>\n",
       "    <tr>\n",
       "      <th>children</th>\n",
       "      <td>0.067998</td>\n",
       "    </tr>\n",
       "    <tr>\n",
       "      <th>smoker</th>\n",
       "      <td>0.787251</td>\n",
       "    </tr>\n",
       "    <tr>\n",
       "      <th>region</th>\n",
       "      <td>-0.006208</td>\n",
       "    </tr>\n",
       "    <tr>\n",
       "      <th>charges</th>\n",
       "      <td>1.000000</td>\n",
       "    </tr>\n",
       "  </tbody>\n",
       "</table>\n",
       "</div>"
      ],
      "text/plain": [
       "           charges\n",
       "age       0.299008\n",
       "sex       0.057292\n",
       "bmi       0.198341\n",
       "children  0.067998\n",
       "smoker    0.787251\n",
       "region   -0.006208\n",
       "charges   1.000000"
      ]
     },
     "execution_count": 54,
     "metadata": {},
     "output_type": "execute_result"
    }
   ],
   "source": [
    "a1 = corr[['charges']]\n",
    "a1"
   ]
  },
  {
   "cell_type": "markdown",
   "id": "a6d16321",
   "metadata": {},
   "source": [
    "drop the columns the neagtive corr value present in the attributes of Reigon\n"
   ]
  },
  {
   "cell_type": "code",
   "execution_count": 55,
   "id": "619789c5",
   "metadata": {},
   "outputs": [],
   "source": [
    "df.drop(['region'],axis=1,inplace=True)"
   ]
  },
  {
   "cell_type": "code",
   "execution_count": 58,
   "id": "427fdfc6",
   "metadata": {},
   "outputs": [
    {
     "data": {
      "text/html": [
       "<div>\n",
       "<style scoped>\n",
       "    .dataframe tbody tr th:only-of-type {\n",
       "        vertical-align: middle;\n",
       "    }\n",
       "\n",
       "    .dataframe tbody tr th {\n",
       "        vertical-align: top;\n",
       "    }\n",
       "\n",
       "    .dataframe thead th {\n",
       "        text-align: right;\n",
       "    }\n",
       "</style>\n",
       "<table border=\"1\" class=\"dataframe\">\n",
       "  <thead>\n",
       "    <tr style=\"text-align: right;\">\n",
       "      <th></th>\n",
       "      <th>age</th>\n",
       "      <th>sex</th>\n",
       "      <th>bmi</th>\n",
       "      <th>children</th>\n",
       "      <th>smoker</th>\n",
       "      <th>charges</th>\n",
       "    </tr>\n",
       "  </thead>\n",
       "  <tbody>\n",
       "    <tr>\n",
       "      <th>0</th>\n",
       "      <td>19</td>\n",
       "      <td>0</td>\n",
       "      <td>27.900</td>\n",
       "      <td>0</td>\n",
       "      <td>1</td>\n",
       "      <td>16884.92400</td>\n",
       "    </tr>\n",
       "    <tr>\n",
       "      <th>1</th>\n",
       "      <td>18</td>\n",
       "      <td>1</td>\n",
       "      <td>33.770</td>\n",
       "      <td>1</td>\n",
       "      <td>0</td>\n",
       "      <td>1725.55230</td>\n",
       "    </tr>\n",
       "    <tr>\n",
       "      <th>2</th>\n",
       "      <td>28</td>\n",
       "      <td>1</td>\n",
       "      <td>33.000</td>\n",
       "      <td>3</td>\n",
       "      <td>0</td>\n",
       "      <td>4449.46200</td>\n",
       "    </tr>\n",
       "    <tr>\n",
       "      <th>3</th>\n",
       "      <td>33</td>\n",
       "      <td>1</td>\n",
       "      <td>22.705</td>\n",
       "      <td>0</td>\n",
       "      <td>0</td>\n",
       "      <td>21984.47061</td>\n",
       "    </tr>\n",
       "    <tr>\n",
       "      <th>4</th>\n",
       "      <td>32</td>\n",
       "      <td>1</td>\n",
       "      <td>28.880</td>\n",
       "      <td>0</td>\n",
       "      <td>0</td>\n",
       "      <td>3866.85520</td>\n",
       "    </tr>\n",
       "  </tbody>\n",
       "</table>\n",
       "</div>"
      ],
      "text/plain": [
       "   age  sex     bmi  children  smoker      charges\n",
       "0   19    0  27.900         0       1  16884.92400\n",
       "1   18    1  33.770         1       0   1725.55230\n",
       "2   28    1  33.000         3       0   4449.46200\n",
       "3   33    1  22.705         0       0  21984.47061\n",
       "4   32    1  28.880         0       0   3866.85520"
      ]
     },
     "execution_count": 58,
     "metadata": {},
     "output_type": "execute_result"
    }
   ],
   "source": [
    "df.head()"
   ]
  },
  {
   "cell_type": "markdown",
   "id": "53e8eef0",
   "metadata": {},
   "source": [
    "check the corr value"
   ]
  },
  {
   "cell_type": "code",
   "execution_count": 59,
   "id": "2bb91c78",
   "metadata": {},
   "outputs": [
    {
     "data": {
      "text/html": [
       "<div>\n",
       "<style scoped>\n",
       "    .dataframe tbody tr th:only-of-type {\n",
       "        vertical-align: middle;\n",
       "    }\n",
       "\n",
       "    .dataframe tbody tr th {\n",
       "        vertical-align: top;\n",
       "    }\n",
       "\n",
       "    .dataframe thead th {\n",
       "        text-align: right;\n",
       "    }\n",
       "</style>\n",
       "<table border=\"1\" class=\"dataframe\">\n",
       "  <thead>\n",
       "    <tr style=\"text-align: right;\">\n",
       "      <th></th>\n",
       "      <th>age</th>\n",
       "      <th>sex</th>\n",
       "      <th>bmi</th>\n",
       "      <th>children</th>\n",
       "      <th>smoker</th>\n",
       "      <th>charges</th>\n",
       "    </tr>\n",
       "  </thead>\n",
       "  <tbody>\n",
       "    <tr>\n",
       "      <th>age</th>\n",
       "      <td>1.000000</td>\n",
       "      <td>-0.020856</td>\n",
       "      <td>0.109272</td>\n",
       "      <td>0.042469</td>\n",
       "      <td>-0.025019</td>\n",
       "      <td>0.299008</td>\n",
       "    </tr>\n",
       "    <tr>\n",
       "      <th>sex</th>\n",
       "      <td>-0.020856</td>\n",
       "      <td>1.000000</td>\n",
       "      <td>0.046371</td>\n",
       "      <td>0.017163</td>\n",
       "      <td>0.076185</td>\n",
       "      <td>0.057292</td>\n",
       "    </tr>\n",
       "    <tr>\n",
       "      <th>bmi</th>\n",
       "      <td>0.109272</td>\n",
       "      <td>0.046371</td>\n",
       "      <td>1.000000</td>\n",
       "      <td>0.012759</td>\n",
       "      <td>0.003750</td>\n",
       "      <td>0.198341</td>\n",
       "    </tr>\n",
       "    <tr>\n",
       "      <th>children</th>\n",
       "      <td>0.042469</td>\n",
       "      <td>0.017163</td>\n",
       "      <td>0.012759</td>\n",
       "      <td>1.000000</td>\n",
       "      <td>0.007673</td>\n",
       "      <td>0.067998</td>\n",
       "    </tr>\n",
       "    <tr>\n",
       "      <th>smoker</th>\n",
       "      <td>-0.025019</td>\n",
       "      <td>0.076185</td>\n",
       "      <td>0.003750</td>\n",
       "      <td>0.007673</td>\n",
       "      <td>1.000000</td>\n",
       "      <td>0.787251</td>\n",
       "    </tr>\n",
       "    <tr>\n",
       "      <th>charges</th>\n",
       "      <td>0.299008</td>\n",
       "      <td>0.057292</td>\n",
       "      <td>0.198341</td>\n",
       "      <td>0.067998</td>\n",
       "      <td>0.787251</td>\n",
       "      <td>1.000000</td>\n",
       "    </tr>\n",
       "  </tbody>\n",
       "</table>\n",
       "</div>"
      ],
      "text/plain": [
       "               age       sex       bmi  children    smoker   charges\n",
       "age       1.000000 -0.020856  0.109272  0.042469 -0.025019  0.299008\n",
       "sex      -0.020856  1.000000  0.046371  0.017163  0.076185  0.057292\n",
       "bmi       0.109272  0.046371  1.000000  0.012759  0.003750  0.198341\n",
       "children  0.042469  0.017163  0.012759  1.000000  0.007673  0.067998\n",
       "smoker   -0.025019  0.076185  0.003750  0.007673  1.000000  0.787251\n",
       "charges   0.299008  0.057292  0.198341  0.067998  0.787251  1.000000"
      ]
     },
     "execution_count": 59,
     "metadata": {},
     "output_type": "execute_result"
    }
   ],
   "source": [
    "b =df.corr()\n",
    "b"
   ]
  },
  {
   "cell_type": "markdown",
   "id": "abb564b5",
   "metadata": {},
   "source": [
    "After drop the negative  columns values we put the charges values in  the data frame so that we can show it on heatmap \n"
   ]
  },
  {
   "cell_type": "code",
   "execution_count": 60,
   "id": "74134461",
   "metadata": {},
   "outputs": [
    {
     "data": {
      "text/html": [
       "<div>\n",
       "<style scoped>\n",
       "    .dataframe tbody tr th:only-of-type {\n",
       "        vertical-align: middle;\n",
       "    }\n",
       "\n",
       "    .dataframe tbody tr th {\n",
       "        vertical-align: top;\n",
       "    }\n",
       "\n",
       "    .dataframe thead th {\n",
       "        text-align: right;\n",
       "    }\n",
       "</style>\n",
       "<table border=\"1\" class=\"dataframe\">\n",
       "  <thead>\n",
       "    <tr style=\"text-align: right;\">\n",
       "      <th></th>\n",
       "      <th>charges</th>\n",
       "    </tr>\n",
       "  </thead>\n",
       "  <tbody>\n",
       "    <tr>\n",
       "      <th>age</th>\n",
       "      <td>0.299008</td>\n",
       "    </tr>\n",
       "    <tr>\n",
       "      <th>sex</th>\n",
       "      <td>0.057292</td>\n",
       "    </tr>\n",
       "    <tr>\n",
       "      <th>bmi</th>\n",
       "      <td>0.198341</td>\n",
       "    </tr>\n",
       "    <tr>\n",
       "      <th>children</th>\n",
       "      <td>0.067998</td>\n",
       "    </tr>\n",
       "    <tr>\n",
       "      <th>smoker</th>\n",
       "      <td>0.787251</td>\n",
       "    </tr>\n",
       "    <tr>\n",
       "      <th>charges</th>\n",
       "      <td>1.000000</td>\n",
       "    </tr>\n",
       "  </tbody>\n",
       "</table>\n",
       "</div>"
      ],
      "text/plain": [
       "           charges\n",
       "age       0.299008\n",
       "sex       0.057292\n",
       "bmi       0.198341\n",
       "children  0.067998\n",
       "smoker    0.787251\n",
       "charges   1.000000"
      ]
     },
     "execution_count": 60,
     "metadata": {},
     "output_type": "execute_result"
    }
   ],
   "source": [
    "a2 = b[['charges']]\n",
    "a2"
   ]
  },
  {
   "cell_type": "markdown",
   "id": "29bb3474",
   "metadata": {},
   "source": [
    "Here i have shown the charges values on heatmap which tell the corr value present in green colour they are highly positive \n",
    "In light green the corr vlaue is less than to highly positive  \n",
    "and the values in light yellow colour very low  positive \n"
   ]
  },
  {
   "cell_type": "code",
   "execution_count": 62,
   "id": "58cf03d0",
   "metadata": {},
   "outputs": [
    {
     "data": {
      "image/png": "[encoded data removed]",
      "text/plain": [
       "<Figure size 1440x720 with 2 Axes>"
      ]
     },
     "metadata": {
      "needs_background": "light"
     },
     "output_type": "display_data"
    }
   ],
   "source": [
    "plt.figure(figsize=(20,10))\n",
    "plt.title('Charges_Matrix',fontsize=20)\n",
    "sns.heatmap(a2,vmax=1.0,vmin=-1.0,fmt='g',cmap='RdYlGn',annot=True)\n",
    "plt.show()"
   ]
  },
  {
   "cell_type": "markdown",
   "id": "424e2b09",
   "metadata": {},
   "source": [
    "# BOXPLOT OF DEPENDENT VARIABLE"
   ]
  },
  {
   "cell_type": "markdown",
   "id": "984ac6cd",
   "metadata": {},
   "source": [
    "The box plot represents the data of the age attribute.\n",
    "The age of values starts from 0.0 and goes above 1.0. 25% to 75% of the data/rows lies between the 0.1 to 0.67(approx) charges. \n"
   ]
  },
  {
   "cell_type": "code",
   "execution_count": 63,
   "id": "3ffae336",
   "metadata": {},
   "outputs": [
    {
     "data": {
      "text/plain": [
       "<AxesSubplot:xlabel='charges'>"
      ]
     },
     "execution_count": 63,
     "metadata": {},
     "output_type": "execute_result"
    },
    {
     "data": {
      "image/png": "[encoded data removed]",
      "text/plain": [
       "<Figure size 432x288 with 1 Axes>"
      ]
     },
     "metadata": {
      "needs_background": "light"
     },
     "output_type": "display_data"
    }
   ],
   "source": [
    "sns.boxplot(a2.charges)"
   ]
  },
  {
   "cell_type": "markdown",
   "id": "f8cf7344",
   "metadata": {},
   "source": [
    "# DistPlot OF DEPENDENT VARIABLE¶"
   ]
  },
  {
   "cell_type": "markdown",
   "id": "6d702134",
   "metadata": {},
   "source": [
    "Peak of the graph is towards right, which shows a positive Skewness. \n",
    "The inclination of the data is more towards 1000 to 15000, i.e. data values or rows are more towards 10000 to 15000.\n"
   ]
  },
  {
   "cell_type": "code",
   "execution_count": 65,
   "id": "ced04b01",
   "metadata": {},
   "outputs": [
    {
     "data": {
      "text/plain": [
       "Text(0.5, 1.0, 'CHARGES')"
      ]
     },
     "execution_count": 65,
     "metadata": {},
     "output_type": "execute_result"
    },
    {
     "data": {
      "image/png": "[encoded data removed]",
      "text/plain": [
       "<Figure size 720x360 with 1 Axes>"
      ]
     },
     "metadata": {
      "needs_background": "light"
     },
     "output_type": "display_data"
    }
   ],
   "source": [
    "plt.figure(figsize=(10,5))\n",
    "sns.distplot(df['charges'])\n",
    "plt.title('CHARGES',fontsize=20)"
   ]
  },
  {
   "cell_type": "markdown",
   "id": "45e72c7c",
   "metadata": {},
   "source": [
    "It tell the numbers of columns present in the Data\n"
   ]
  },
  {
   "cell_type": "code",
   "execution_count": 66,
   "id": "e016627c",
   "metadata": {},
   "outputs": [
    {
     "data": {
      "text/plain": [
       "Index(['age', 'sex', 'bmi', 'children', 'smoker', 'charges'], dtype='object')"
      ]
     },
     "execution_count": 66,
     "metadata": {},
     "output_type": "execute_result"
    }
   ],
   "source": [
    "df.columns"
   ]
  },
  {
   "cell_type": "markdown",
   "id": "b6de42ce",
   "metadata": {},
   "source": [
    "Independent Variable/Feature/Parameter/Coloum\n",
    "storing the columns values into x because we assigned X as Independent variables \n"
   ]
  },
  {
   "cell_type": "code",
   "execution_count": 82,
   "id": "6699b640",
   "metadata": {},
   "outputs": [],
   "source": [
    "x = df[['age', 'sex', 'bmi', 'children', 'smoker']]\n"
   ]
  },
  {
   "cell_type": "markdown",
   "id": "6731c05b",
   "metadata": {},
   "source": [
    "Top 5 rows"
   ]
  },
  {
   "cell_type": "code",
   "execution_count": 83,
   "id": "3202535c",
   "metadata": {},
   "outputs": [
    {
     "data": {
      "text/html": [
       "<div>\n",
       "<style scoped>\n",
       "    .dataframe tbody tr th:only-of-type {\n",
       "        vertical-align: middle;\n",
       "    }\n",
       "\n",
       "    .dataframe tbody tr th {\n",
       "        vertical-align: top;\n",
       "    }\n",
       "\n",
       "    .dataframe thead th {\n",
       "        text-align: right;\n",
       "    }\n",
       "</style>\n",
       "<table border=\"1\" class=\"dataframe\">\n",
       "  <thead>\n",
       "    <tr style=\"text-align: right;\">\n",
       "      <th></th>\n",
       "      <th>age</th>\n",
       "      <th>sex</th>\n",
       "      <th>bmi</th>\n",
       "      <th>children</th>\n",
       "      <th>smoker</th>\n",
       "    </tr>\n",
       "  </thead>\n",
       "  <tbody>\n",
       "    <tr>\n",
       "      <th>0</th>\n",
       "      <td>19</td>\n",
       "      <td>0</td>\n",
       "      <td>27.900</td>\n",
       "      <td>0</td>\n",
       "      <td>1</td>\n",
       "    </tr>\n",
       "    <tr>\n",
       "      <th>1</th>\n",
       "      <td>18</td>\n",
       "      <td>1</td>\n",
       "      <td>33.770</td>\n",
       "      <td>1</td>\n",
       "      <td>0</td>\n",
       "    </tr>\n",
       "    <tr>\n",
       "      <th>2</th>\n",
       "      <td>28</td>\n",
       "      <td>1</td>\n",
       "      <td>33.000</td>\n",
       "      <td>3</td>\n",
       "      <td>0</td>\n",
       "    </tr>\n",
       "    <tr>\n",
       "      <th>3</th>\n",
       "      <td>33</td>\n",
       "      <td>1</td>\n",
       "      <td>22.705</td>\n",
       "      <td>0</td>\n",
       "      <td>0</td>\n",
       "    </tr>\n",
       "    <tr>\n",
       "      <th>4</th>\n",
       "      <td>32</td>\n",
       "      <td>1</td>\n",
       "      <td>28.880</td>\n",
       "      <td>0</td>\n",
       "      <td>0</td>\n",
       "    </tr>\n",
       "  </tbody>\n",
       "</table>\n",
       "</div>"
      ],
      "text/plain": [
       "   age  sex     bmi  children  smoker\n",
       "0   19    0  27.900         0       1\n",
       "1   18    1  33.770         1       0\n",
       "2   28    1  33.000         3       0\n",
       "3   33    1  22.705         0       0\n",
       "4   32    1  28.880         0       0"
      ]
     },
     "execution_count": 83,
     "metadata": {},
     "output_type": "execute_result"
    }
   ],
   "source": [
    "x.head()"
   ]
  },
  {
   "cell_type": "markdown",
   "id": "11b1f6e6",
   "metadata": {},
   "source": [
    "DEpendent\n",
    "storing the columns values into y because we assigned y as Independent variables\n"
   ]
  },
  {
   "cell_type": "code",
   "execution_count": 84,
   "id": "ecf3e531",
   "metadata": {},
   "outputs": [],
   "source": [
    "y = df[['charges']]"
   ]
  },
  {
   "cell_type": "markdown",
   "id": "69eddcbd",
   "metadata": {},
   "source": [
    "top 5 rows rows of dependent variable"
   ]
  },
  {
   "cell_type": "code",
   "execution_count": 85,
   "id": "1a8b65f3",
   "metadata": {},
   "outputs": [
    {
     "data": {
      "text/html": [
       "<div>\n",
       "<style scoped>\n",
       "    .dataframe tbody tr th:only-of-type {\n",
       "        vertical-align: middle;\n",
       "    }\n",
       "\n",
       "    .dataframe tbody tr th {\n",
       "        vertical-align: top;\n",
       "    }\n",
       "\n",
       "    .dataframe thead th {\n",
       "        text-align: right;\n",
       "    }\n",
       "</style>\n",
       "<table border=\"1\" class=\"dataframe\">\n",
       "  <thead>\n",
       "    <tr style=\"text-align: right;\">\n",
       "      <th></th>\n",
       "      <th>charges</th>\n",
       "    </tr>\n",
       "  </thead>\n",
       "  <tbody>\n",
       "    <tr>\n",
       "      <th>0</th>\n",
       "      <td>16884.92400</td>\n",
       "    </tr>\n",
       "    <tr>\n",
       "      <th>1</th>\n",
       "      <td>1725.55230</td>\n",
       "    </tr>\n",
       "    <tr>\n",
       "      <th>2</th>\n",
       "      <td>4449.46200</td>\n",
       "    </tr>\n",
       "    <tr>\n",
       "      <th>3</th>\n",
       "      <td>21984.47061</td>\n",
       "    </tr>\n",
       "    <tr>\n",
       "      <th>4</th>\n",
       "      <td>3866.85520</td>\n",
       "    </tr>\n",
       "  </tbody>\n",
       "</table>\n",
       "</div>"
      ],
      "text/plain": [
       "       charges\n",
       "0  16884.92400\n",
       "1   1725.55230\n",
       "2   4449.46200\n",
       "3  21984.47061\n",
       "4   3866.85520"
      ]
     },
     "execution_count": 85,
     "metadata": {},
     "output_type": "execute_result"
    }
   ],
   "source": [
    "y.head()"
   ]
  },
  {
   "cell_type": "markdown",
   "id": "0ea4fed9",
   "metadata": {},
   "source": [
    "Now we convert the data frame into array by nupmy function so that we can test and train our data\n"
   ]
  },
  {
   "cell_type": "code",
   "execution_count": 86,
   "id": "c94f99ce",
   "metadata": {},
   "outputs": [],
   "source": [
    "x = x.values.reshape(-1,1)\n"
   ]
  },
  {
   "cell_type": "markdown",
   "id": "a174f3f0",
   "metadata": {},
   "source": [
    "now we convert the data frame into array by nupmy function so that we can test and train our data\n"
   ]
  },
  {
   "cell_type": "code",
   "execution_count": 87,
   "id": "6fcb21d4",
   "metadata": {},
   "outputs": [],
   "source": [
    "y = y.values.reshape(-1,1)"
   ]
  },
  {
   "cell_type": "markdown",
   "id": "1d87417e",
   "metadata": {},
   "source": [
    "importing the main library and sub library and its function library\n"
   ]
  },
  {
   "cell_type": "code",
   "execution_count": 89,
   "id": "a269f515",
   "metadata": {},
   "outputs": [],
   "source": [
    "from sklearn.model_selection import train_test_split"
   ]
  },
  {
   "cell_type": "markdown",
   "id": "5a790016",
   "metadata": {},
   "source": [
    "Spilitting of Data.\n",
    "Here we splitting the data into 70% To 30% so 70% is our train model data and 30 % is our test data on that base\n",
    "we will checke our test accuray \n"
   ]
  },
  {
   "cell_type": "code",
   "execution_count": 90,
   "id": "5c0ead9b",
   "metadata": {},
   "outputs": [],
   "source": [
    "X_train, X_test, y_train, y_test = train_test_split(X,y,test_size=0.3,train_size=0.7,random_state=1)"
   ]
  },
  {
   "cell_type": "markdown",
   "id": "441bfe92",
   "metadata": {},
   "source": [
    "It tell the number of rows and columns in the X_train data"
   ]
  },
  {
   "cell_type": "code",
   "execution_count": 91,
   "id": "73be59b5",
   "metadata": {},
   "outputs": [
    {
     "data": {
      "text/plain": [
       "(936, 5)"
      ]
     },
     "execution_count": 91,
     "metadata": {},
     "output_type": "execute_result"
    }
   ],
   "source": [
    "X_train.shape"
   ]
  },
  {
   "cell_type": "markdown",
   "id": "a6e7d77d",
   "metadata": {},
   "source": [
    "It tell the number of rows and columns in the X_test data\n"
   ]
  },
  {
   "cell_type": "code",
   "execution_count": 92,
   "id": "7fd124f7",
   "metadata": {},
   "outputs": [
    {
     "data": {
      "text/plain": [
       "(402, 5)"
      ]
     },
     "execution_count": 92,
     "metadata": {},
     "output_type": "execute_result"
    }
   ],
   "source": [
    "X_test.shape"
   ]
  },
  {
   "cell_type": "markdown",
   "id": "d3e91554",
   "metadata": {},
   "source": [
    "It tell the number of rows and columns in the y_train data\n"
   ]
  },
  {
   "cell_type": "code",
   "execution_count": 94,
   "id": "31ee17fd",
   "metadata": {},
   "outputs": [
    {
     "data": {
      "text/plain": [
       "(936, 1)"
      ]
     },
     "execution_count": 94,
     "metadata": {},
     "output_type": "execute_result"
    }
   ],
   "source": [
    "y_train.shape"
   ]
  },
  {
   "cell_type": "markdown",
   "id": "b4a26d41",
   "metadata": {},
   "source": [
    "It tell the number of rows and columns in the y_test data\n"
   ]
  },
  {
   "cell_type": "code",
   "execution_count": 95,
   "id": "d96b9445",
   "metadata": {},
   "outputs": [
    {
     "data": {
      "text/plain": [
       "(402, 1)"
      ]
     },
     "execution_count": 95,
     "metadata": {},
     "output_type": "execute_result"
    }
   ],
   "source": [
    "y_test.shape"
   ]
  },
  {
   "cell_type": "markdown",
   "id": "34506675",
   "metadata": {},
   "source": [
    "importing linear Regression"
   ]
  },
  {
   "cell_type": "code",
   "execution_count": 96,
   "id": "d7a00eb3",
   "metadata": {},
   "outputs": [],
   "source": [
    "from sklearn.linear_model import LinearRegression"
   ]
  },
  {
   "cell_type": "markdown",
   "id": "861eb1f9",
   "metadata": {},
   "source": [
    "object Creation"
   ]
  },
  {
   "cell_type": "code",
   "execution_count": 97,
   "id": "55039e32",
   "metadata": {},
   "outputs": [],
   "source": [
    "model = LinearRegression()"
   ]
  },
  {
   "cell_type": "markdown",
   "id": "e9a860d7",
   "metadata": {},
   "source": [
    "Training the model using the .fit() Function"
   ]
  },
  {
   "cell_type": "code",
   "execution_count": 98,
   "id": "84db8c1b",
   "metadata": {},
   "outputs": [
    {
     "data": {
      "text/plain": [
       "LinearRegression()"
      ]
     },
     "execution_count": 98,
     "metadata": {},
     "output_type": "execute_result"
    }
   ],
   "source": [
    "model.fit(X_train,y_train)"
   ]
  },
  {
   "cell_type": "markdown",
   "id": "ba613c7a",
   "metadata": {},
   "source": [
    "testing the data/model or predicting the data or predicting the model"
   ]
  },
  {
   "cell_type": "code",
   "execution_count": 99,
   "id": "7cf78641",
   "metadata": {},
   "outputs": [],
   "source": [
    "y_hat = model.predict(X_test)"
   ]
  },
  {
   "cell_type": "code",
   "execution_count": 100,
   "id": "3a9eef46",
   "metadata": {},
   "outputs": [
    {
     "data": {
      "text/plain": [
       "array([[ 4.29318183e+03],\n",
       "       [ 1.26575229e+04],\n",
       "       [ 1.28190691e+04],\n",
       "       [ 1.34996799e+04],\n",
       "       [ 1.08219565e+03],\n",
       "       [ 3.20546812e+04],\n",
       "       [ 1.31596373e+04],\n",
       "       [ 1.17671549e+04],\n",
       "       [ 3.39651274e+03],\n",
       "       [ 3.03493602e+04],\n",
       "       [ 1.15290334e+04],\n",
       "       [ 1.75072812e+04],\n",
       "       [ 9.04969968e+03],\n",
       "       [ 8.70309437e+03],\n",
       "       [ 3.70327689e+03],\n",
       "       [ 1.06640059e+04],\n",
       "       [ 3.89015588e+03],\n",
       "       [ 7.22652590e+03],\n",
       "       [ 1.53005572e+04],\n",
       "       [ 1.46943585e+04],\n",
       "       [ 1.19206048e+04],\n",
       "       [ 3.34981376e+04],\n",
       "       [ 8.98140565e+03],\n",
       "       [ 9.37517781e+03],\n",
       "       [ 2.64481960e+03],\n",
       "       [ 8.00243294e+03],\n",
       "       [ 8.87514893e+03],\n",
       "       [ 1.12015396e+04],\n",
       "       [ 7.97326363e+03],\n",
       "       [ 3.97860099e+03],\n",
       "       [ 1.43225934e+04],\n",
       "       [ 6.14927578e+03],\n",
       "       [ 3.42567695e+04],\n",
       "       [ 2.72355482e+04],\n",
       "       [ 3.39893782e+04],\n",
       "       [ 9.43250083e+03],\n",
       "       [ 3.10485068e+04],\n",
       "       [ 2.72088914e+04],\n",
       "       [ 1.54802613e+04],\n",
       "       [ 3.39690944e+04],\n",
       "       [ 6.74226833e+03],\n",
       "       [ 1.37844683e+04],\n",
       "       [ 1.10514703e+04],\n",
       "       [ 1.52128168e+04],\n",
       "       [ 4.61460392e+03],\n",
       "       [ 1.25107706e+04],\n",
       "       [ 4.82237111e+03],\n",
       "       [ 2.94329269e+04],\n",
       "       [ 7.26941930e+03],\n",
       "       [ 1.34552639e+04],\n",
       "       [ 1.36760760e+04],\n",
       "       [ 1.25426535e+04],\n",
       "       [ 1.91066213e+03],\n",
       "       [ 9.13613205e+03],\n",
       "       [ 2.59282038e+04],\n",
       "       [ 1.05060789e+04],\n",
       "       [ 3.47868614e+04],\n",
       "       [ 1.47727577e+04],\n",
       "       [ 2.78771075e+03],\n",
       "       [ 6.33630948e+03],\n",
       "       [ 7.08227951e+03],\n",
       "       [ 1.42790957e+04],\n",
       "       [ 2.78023929e+04],\n",
       "       [ 3.29427682e+03],\n",
       "       [ 1.50762895e+04],\n",
       "       [ 1.09640882e+04],\n",
       "       [ 1.07973197e+04],\n",
       "       [ 1.09476055e+04],\n",
       "       [ 1.55061232e+03],\n",
       "       [ 2.52645276e+04],\n",
       "       [ 3.73829048e+04],\n",
       "       [ 3.27686711e+04],\n",
       "       [ 2.52429675e+03],\n",
       "       [ 1.10711282e+04],\n",
       "       [ 1.34527483e+04],\n",
       "       [ 3.45689104e+04],\n",
       "       [ 3.13968307e+03],\n",
       "       [ 4.48732736e+03],\n",
       "       [ 1.07559845e+04],\n",
       "       [ 1.02130269e+04],\n",
       "       [-3.35311542e+02],\n",
       "       [ 1.37195393e+04],\n",
       "       [ 1.01883662e+04],\n",
       "       [ 3.64300117e+03],\n",
       "       [ 3.31413671e+04],\n",
       "       [ 3.36180098e+04],\n",
       "       [ 7.56763742e+03],\n",
       "       [ 3.81717851e+04],\n",
       "       [ 1.21472120e+04],\n",
       "       [ 1.00410578e+04],\n",
       "       [ 3.03433673e+04],\n",
       "       [ 3.36264199e+04],\n",
       "       [ 1.49294337e+04],\n",
       "       [ 1.12083376e+04],\n",
       "       [ 3.28288929e+02],\n",
       "       [ 1.10160029e+04],\n",
       "       [ 9.99210755e+03],\n",
       "       [ 1.51917249e+04],\n",
       "       [ 1.46915791e+04],\n",
       "       [ 5.58252175e+03],\n",
       "       [ 1.34155172e+04],\n",
       "       [ 2.63589710e+04],\n",
       "       [ 2.87366108e+04],\n",
       "       [ 2.81193633e+04],\n",
       "       [ 3.61159885e+04],\n",
       "       [ 2.74027882e+04],\n",
       "       [ 1.23539968e+03],\n",
       "       [ 9.56262966e+03],\n",
       "       [ 5.19105170e+03],\n",
       "       [ 1.18938154e+04],\n",
       "       [ 5.94722805e+03],\n",
       "       [ 5.29240381e+03],\n",
       "       [ 1.11543679e+03],\n",
       "       [ 1.82074650e+04],\n",
       "       [ 3.21709800e+03],\n",
       "       [ 2.19718969e+03],\n",
       "       [ 1.16559938e+04],\n",
       "       [ 1.24548275e+04],\n",
       "       [ 1.09907930e+04],\n",
       "       [ 3.70341179e+03],\n",
       "       [ 9.33402857e+03],\n",
       "       [ 1.30175638e+04],\n",
       "       [ 8.21237534e+03],\n",
       "       [ 7.04624604e+03],\n",
       "       [ 3.72208430e+04],\n",
       "       [ 1.22665812e+04],\n",
       "       [ 1.15566938e+04],\n",
       "       [ 3.00044317e+04],\n",
       "       [ 3.65868932e+04],\n",
       "       [ 1.17721330e+04],\n",
       "       [ 2.89012131e+04],\n",
       "       [ 1.47889956e+02],\n",
       "       [ 7.68059847e+03],\n",
       "       [ 3.22879792e+04],\n",
       "       [ 8.67271140e+03],\n",
       "       [-2.28093708e+01],\n",
       "       [ 1.23205128e+03],\n",
       "       [ 5.15049689e+03],\n",
       "       [ 7.60921684e+03],\n",
       "       [ 1.19651213e+04],\n",
       "       [ 1.42432445e+04],\n",
       "       [ 8.99234218e+03],\n",
       "       [ 2.96777834e+04],\n",
       "       [ 1.60490902e+04],\n",
       "       [ 1.39517840e+04],\n",
       "       [ 1.09575510e+04],\n",
       "       [ 2.49482906e+03],\n",
       "       [ 1.02442592e+04],\n",
       "       [ 4.28394095e+03],\n",
       "       [ 6.05804146e+03],\n",
       "       [ 1.17223718e+04],\n",
       "       [ 5.31974344e+03],\n",
       "       [ 1.41869815e+04],\n",
       "       [ 1.30253295e+04],\n",
       "       [ 1.30287319e+04],\n",
       "       [ 7.44854855e+03],\n",
       "       [ 1.17210982e+04],\n",
       "       [ 1.03217242e+04],\n",
       "       [ 9.71383075e+03],\n",
       "       [ 4.95575381e+03],\n",
       "       [ 6.20556741e+03],\n",
       "       [ 4.08261072e+04],\n",
       "       [ 1.33984596e+04],\n",
       "       [ 4.70685695e+03],\n",
       "       [ 8.14354770e+03],\n",
       "       [ 5.20293711e+03],\n",
       "       [ 3.28762050e+04],\n",
       "       [ 1.15267794e+04],\n",
       "       [ 1.13390570e+04],\n",
       "       [ 6.45803898e+03],\n",
       "       [ 6.76959818e+03],\n",
       "       [ 6.59671385e+03],\n",
       "       [ 3.28986482e+04],\n",
       "       [ 3.50583806e+04],\n",
       "       [ 2.26286978e+03],\n",
       "       [ 7.16131046e+03],\n",
       "       [ 5.54562428e+03],\n",
       "       [ 1.47234087e+04],\n",
       "       [ 1.23244698e+03],\n",
       "       [ 1.16817668e+04],\n",
       "       [ 1.28314605e+04],\n",
       "       [ 1.10172382e+04],\n",
       "       [ 1.04089490e+04],\n",
       "       [ 1.24853935e+04],\n",
       "       [ 2.42325258e+03],\n",
       "       [ 2.84041832e+04],\n",
       "       [ 3.02045853e+03],\n",
       "       [ 1.49730635e+04],\n",
       "       [ 6.29592382e+03],\n",
       "       [ 9.75889511e+03],\n",
       "       [ 1.45888311e+04],\n",
       "       [ 3.92833676e+04],\n",
       "       [ 2.67812356e+03],\n",
       "       [ 1.52145869e+03],\n",
       "       [ 5.11507953e+03],\n",
       "       [ 8.05196395e+03],\n",
       "       [ 8.23444838e+03],\n",
       "       [ 4.44229835e+03],\n",
       "       [ 1.03344462e+04],\n",
       "       [ 9.42090479e+03],\n",
       "       [ 9.78387282e+03],\n",
       "       [ 1.12808540e+04],\n",
       "       [ 1.05785854e+04],\n",
       "       [ 9.58980893e+03],\n",
       "       [ 7.85217182e+03],\n",
       "       [ 1.60602993e+03],\n",
       "       [ 9.49931373e+03],\n",
       "       [ 7.83769205e+03],\n",
       "       [ 6.06150696e+03],\n",
       "       [ 1.20517140e+04],\n",
       "       [ 5.00232623e+03],\n",
       "       [ 3.36508946e+04],\n",
       "       [ 6.34925774e+03],\n",
       "       [ 6.60585130e+03],\n",
       "       [ 8.16102054e+03],\n",
       "       [ 3.93548960e+04],\n",
       "       [ 1.13657017e+04],\n",
       "       [ 2.90151958e+04],\n",
       "       [ 3.46697909e+03],\n",
       "       [ 3.37048633e+04],\n",
       "       [ 3.29526105e+03],\n",
       "       [ 3.24331744e+04],\n",
       "       [ 1.34863103e+04],\n",
       "       [ 2.24308971e+03],\n",
       "       [ 1.93173827e+03],\n",
       "       [ 1.83240766e+03],\n",
       "       [ 6.06091843e+03],\n",
       "       [ 4.91460457e+03],\n",
       "       [ 2.63903727e+04],\n",
       "       [ 1.60668081e+04],\n",
       "       [ 5.16924622e+03],\n",
       "       [ 1.33225003e+04],\n",
       "       [ 3.93685993e+04],\n",
       "       [ 4.30433101e+03],\n",
       "       [ 1.20386750e+04],\n",
       "       [ 1.16495660e+04],\n",
       "       [ 2.79595434e+04],\n",
       "       [ 2.77719337e+03],\n",
       "       [ 1.26459367e+04],\n",
       "       [ 6.23008336e+03],\n",
       "       [ 1.53824690e+04],\n",
       "       [ 6.27883199e+03],\n",
       "       [ 1.61619065e+04],\n",
       "       [ 4.47464667e+03],\n",
       "       [ 1.26008948e+04],\n",
       "       [ 3.42634670e+04],\n",
       "       [ 1.09704807e+04],\n",
       "       [ 1.08854185e+04],\n",
       "       [ 5.40459427e+03],\n",
       "       [ 1.63771724e+04],\n",
       "       [ 1.40657983e+04],\n",
       "       [ 5.01260828e+03],\n",
       "       [ 1.16346275e+04],\n",
       "       [ 1.27259174e+04],\n",
       "       [ 4.19370654e+03],\n",
       "       [ 6.62783594e+03],\n",
       "       [ 2.74788231e+04],\n",
       "       [ 3.19785705e+04],\n",
       "       [-3.42244430e+02],\n",
       "       [ 3.98140058e+04],\n",
       "       [ 9.80070697e+03],\n",
       "       [ 7.61338987e+03],\n",
       "       [ 1.10749894e+04],\n",
       "       [ 3.40082693e+04],\n",
       "       [ 3.59670641e+04],\n",
       "       [ 3.71440068e+04],\n",
       "       [ 4.87960272e+03],\n",
       "       [ 5.71009071e+03],\n",
       "       [ 1.03979188e+04],\n",
       "       [ 8.88077674e+03],\n",
       "       [ 4.58095442e+03],\n",
       "       [ 1.13771276e+04],\n",
       "       [ 1.06367106e+04],\n",
       "       [ 9.72060404e+03],\n",
       "       [ 9.28976113e+03],\n",
       "       [ 3.94259470e+04],\n",
       "       [ 7.77475690e+03],\n",
       "       [ 4.32533142e+03],\n",
       "       [ 2.63934415e+04],\n",
       "       [ 2.77869858e+04],\n",
       "       [ 1.85962141e+03],\n",
       "       [ 1.20446965e+04],\n",
       "       [ 6.03656963e+03],\n",
       "       [ 3.92781516e+03],\n",
       "       [ 1.09535580e+04],\n",
       "       [ 1.18640426e+04],\n",
       "       [ 1.55944329e+04],\n",
       "       [ 1.09538061e+04],\n",
       "       [ 4.46794911e+03],\n",
       "       [ 7.12880844e+03],\n",
       "       [ 1.20994252e+04],\n",
       "       [ 1.26691849e+04],\n",
       "       [ 1.71673891e+04],\n",
       "       [ 1.08318748e+04],\n",
       "       [ 5.36418414e+03],\n",
       "       [ 3.20122171e+04],\n",
       "       [ 9.54635470e+03],\n",
       "       [ 5.89520986e+03],\n",
       "       [ 2.37042256e+03],\n",
       "       [ 7.11206493e+03],\n",
       "       [ 7.20399410e+03],\n",
       "       [ 7.22859167e+03],\n",
       "       [ 5.74121279e+03],\n",
       "       [ 9.43277452e+03],\n",
       "       [ 6.72148157e+03],\n",
       "       [ 3.06743392e+04],\n",
       "       [ 5.87496650e+03],\n",
       "       [ 4.75061547e+03],\n",
       "       [ 2.38676059e+03],\n",
       "       [ 4.03304704e+03],\n",
       "       [ 8.61325366e+03],\n",
       "       [ 2.76714742e+03],\n",
       "       [ 2.81571160e+04],\n",
       "       [ 7.03584199e+03],\n",
       "       [ 6.79379327e+03],\n",
       "       [ 1.53322452e+04],\n",
       "       [ 9.62791017e+03],\n",
       "       [ 1.09248886e+04],\n",
       "       [ 1.45170628e+04],\n",
       "       [ 1.50033587e+04],\n",
       "       [ 1.42079819e+04],\n",
       "       [ 2.31822859e+04],\n",
       "       [ 5.60377706e+03],\n",
       "       [ 9.25938718e+03],\n",
       "       [ 1.03577350e+04],\n",
       "       [ 1.01829559e+04],\n",
       "       [ 1.29741912e+04],\n",
       "       [ 7.04032886e+03],\n",
       "       [ 3.25889783e+03],\n",
       "       [ 3.33115656e+04],\n",
       "       [ 1.37823395e+04],\n",
       "       [ 1.48923061e+04],\n",
       "       [ 1.14574952e+04],\n",
       "       [ 3.00943813e+03],\n",
       "       [ 9.51195994e+03],\n",
       "       [ 3.84399796e+03],\n",
       "       [ 2.48376439e+03],\n",
       "       [ 1.12961321e+04],\n",
       "       [ 1.58552279e+04],\n",
       "       [ 1.28495839e+04],\n",
       "       [ 3.56113536e+04],\n",
       "       [ 3.50938237e+03],\n",
       "       [ 3.43066725e+04],\n",
       "       [ 3.11787760e+03],\n",
       "       [ 9.19476316e+03],\n",
       "       [ 2.98710019e+04],\n",
       "       [ 5.55648119e+03],\n",
       "       [ 1.90045581e+03],\n",
       "       [ 7.40472420e+03],\n",
       "       [ 1.41248348e+04],\n",
       "       [ 5.78657131e+02],\n",
       "       [ 5.73510377e+03],\n",
       "       [ 9.39058777e+03],\n",
       "       [ 3.79396093e+04],\n",
       "       [ 2.57723898e+04],\n",
       "       [ 9.54118930e+03],\n",
       "       [ 1.20741799e+04],\n",
       "       [ 3.73213331e+04],\n",
       "       [ 1.50119392e+04],\n",
       "       [ 3.35829739e+03],\n",
       "       [ 5.13355541e+03],\n",
       "       [ 9.02777421e+03],\n",
       "       [ 1.59090138e+04],\n",
       "       [ 1.04250636e+04],\n",
       "       [ 8.12673824e+03],\n",
       "       [ 1.02116469e+04],\n",
       "       [ 3.12257680e+04],\n",
       "       [ 3.17154397e+04],\n",
       "       [ 6.64682727e+03],\n",
       "       [ 3.22517096e+04],\n",
       "       [ 3.41632842e+04],\n",
       "       [ 1.46954972e+04],\n",
       "       [ 9.23696559e+03],\n",
       "       [ 9.87413782e+03],\n",
       "       [ 5.69853280e+03],\n",
       "       [ 1.19051574e+04],\n",
       "       [ 1.45529799e+04],\n",
       "       [ 3.74162714e+03],\n",
       "       [ 1.32440234e+04],\n",
       "       [ 1.25308625e+04],\n",
       "       [ 1.01251703e+04],\n",
       "       [ 2.85352924e+04],\n",
       "       [ 2.69182067e+04],\n",
       "       [ 3.29645526e+04],\n",
       "       [ 1.23051549e+04],\n",
       "       [ 1.49478653e+04],\n",
       "       [ 1.73064694e+04],\n",
       "       [ 4.16691708e+03],\n",
       "       [ 9.75250874e+03],\n",
       "       [ 9.75691009e+03],\n",
       "       [ 3.22955410e+04],\n",
       "       [ 3.87984338e+04],\n",
       "       [ 1.07801047e+04],\n",
       "       [ 3.59219630e+04],\n",
       "       [ 2.81500514e+04],\n",
       "       [ 3.18609718e+04],\n",
       "       [ 8.63065366e+03],\n",
       "       [ 1.55437317e+04],\n",
       "       [ 4.12690654e+03],\n",
       "       [ 2.74134219e+03],\n",
       "       [ 2.75104668e+04],\n",
       "       [ 9.88637855e+03]])"
      ]
     },
     "execution_count": 100,
     "metadata": {},
     "output_type": "execute_result"
    }
   ],
   "source": [
    "y_hat"
   ]
  },
  {
   "cell_type": "markdown",
   "id": "565304c4",
   "metadata": {},
   "source": [
    "importing of r2 Library"
   ]
  },
  {
   "cell_type": "code",
   "execution_count": 102,
   "id": "a7593928",
   "metadata": {},
   "outputs": [],
   "source": [
    "from sklearn.metrics import r2_score"
   ]
  },
  {
   "cell_type": "markdown",
   "id": "e4c00f99",
   "metadata": {},
   "source": [
    "Applying r2 formula to find out the r2 and its range between 0 to + 1 "
   ]
  },
  {
   "cell_type": "code",
   "execution_count": 103,
   "id": "9e8e8378",
   "metadata": {},
   "outputs": [
    {
     "data": {
      "text/plain": [
       "73.89093130276878"
      ]
     },
     "execution_count": 103,
     "metadata": {},
     "output_type": "execute_result"
    }
   ],
   "source": [
    "r2_score(y_test,y_hat)*100"
   ]
  },
  {
   "cell_type": "markdown",
   "id": "1f3e3653",
   "metadata": {},
   "source": [
    "Adjusted R_square  \n",
    "here [1] tell the row "
   ]
  },
  {
   "cell_type": "code",
   "execution_count": 104,
   "id": "e362fe00",
   "metadata": {},
   "outputs": [],
   "source": [
    "adj_r2_score = 1-(1-model.score(X_test,y_test))*len((y_train)-1)/(len(y_train)-y_test.shape[1]-1)"
   ]
  },
  {
   "cell_type": "markdown",
   "id": "7b4c7e9c",
   "metadata": {},
   "source": [
    "Adjusted r2 always in range between -1 to +1 and its closer to r2 but never greater then r2\n",
    "73% means our accuracy is very good thats means number of smokers has taken the insurance charges \n"
   ]
  },
  {
   "cell_type": "code",
   "execution_count": 105,
   "id": "20d73620",
   "metadata": {},
   "outputs": [
    {
     "data": {
      "text/plain": [
       "73.8350232327533"
      ]
     },
     "execution_count": 105,
     "metadata": {},
     "output_type": "execute_result"
    }
   ],
   "source": [
    "adj_r2_score*100"
   ]
  },
  {
   "cell_type": "markdown",
   "id": "ecc96e5a",
   "metadata": {},
   "source": [
    "Importing the library of mean_square_error"
   ]
  },
  {
   "cell_type": "code",
   "execution_count": 106,
   "id": "55123a57",
   "metadata": {},
   "outputs": [],
   "source": [
    "from sklearn.metrics import mean_squared_error"
   ]
  },
  {
   "cell_type": "markdown",
   "id": "0bd5912c",
   "metadata": {},
   "source": [
    "Its range always between -infinite to + infinite we are applying formula to find out mean_square_error\n"
   ]
  },
  {
   "cell_type": "code",
   "execution_count": 107,
   "id": "3ab2a0a0",
   "metadata": {},
   "outputs": [
    {
     "data": {
      "text/plain": [
       "37000903.487722784"
      ]
     },
     "execution_count": 107,
     "metadata": {},
     "output_type": "execute_result"
    }
   ],
   "source": [
    "mean_squared_error(y_test,y_hat)"
   ]
  },
  {
   "cell_type": "markdown",
   "id": "89ec7f4c",
   "metadata": {},
   "source": [
    "multi colinearity"
   ]
  },
  {
   "cell_type": "code",
   "execution_count": 108,
   "id": "23bab756",
   "metadata": {},
   "outputs": [
    {
     "data": {
      "text/plain": [
       "0.2610906869723122"
      ]
     },
     "execution_count": 108,
     "metadata": {},
     "output_type": "execute_result"
    }
   ],
   "source": [
    "1/1-model.score(X_test,y_test)"
   ]
  },
  {
   "cell_type": "code",
   "execution_count": null,
   "id": "2f05d12a",
   "metadata": {},
   "outputs": [],
   "source": []
  }
 ],
 "metadata": {
  "kernelspec": {
   "display_name": "Python 3 (ipykernel)",
   "language": "python",
   "name": "python3"
  },
  "language_info": {
   "codemirror_mode": {
    "name": "ipython",
    "version": 3
   },
   "file_extension": ".py",
   "mimetype": "text/x-python",
   "name": "python",
   "nbconvert_exporter": "python",
   "pygments_lexer": "ipython3",
   "version": "3.9.12"
  }
 },
 "nbformat": 4,
 "nbformat_minor": 5
}
